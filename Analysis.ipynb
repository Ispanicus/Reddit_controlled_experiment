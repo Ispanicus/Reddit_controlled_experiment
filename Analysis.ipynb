{
 "cells": [
  {
   "cell_type": "code",
   "execution_count": null,
   "metadata": {},
   "outputs": [],
   "source": [
    "#!pip install holoviews\n",
    "import pandas as pd\n",
    "import hvplot.pandas\n",
    "import holoviews as hv"
   ]
  },
  {
   "cell_type": "code",
   "execution_count": null,
   "metadata": {},
   "outputs": [],
   "source": [
    "df = pd.read_parquet('data.parquet')"
   ]
  },
  {
   "cell_type": "code",
   "execution_count": null,
   "metadata": {},
   "outputs": [],
   "source": [
    "df = df[df.starting_like_count == 1].dropna()"
   ]
  },
  {
   "cell_type": "code",
   "execution_count": null,
   "metadata": {},
   "outputs": [],
   "source": [
    "df.sort_values('end_like_count')"
   ]
  },
  {
   "cell_type": "code",
   "execution_count": null,
   "metadata": {},
   "outputs": [],
   "source": [
    "df = df.loc[df.end_like_count > 0, ['treatment', 'end_like_count']]\n",
    "t = df.loc[df.treatment == 1, 'end_like_count'] -1\n",
    "n = df.loc[df.treatment == 0, 'end_like_count']\n"
   ]
  },
  {
   "cell_type": "code",
   "execution_count": null,
   "metadata": {},
   "outputs": [],
   "source": [
    "opts = dict(width=400, kind='hist', logx=True, ylim=(0, 300), bins=[10**(i/4) for i in range(20)])\n",
    "(n.hvplot(**opts) + t.hvplot(**opts))"
   ]
  },
  {
   "cell_type": "code",
   "execution_count": null,
   "metadata": {},
   "outputs": [],
   "source": [
    "df = df.loc[df.end_like_count > 0, ['treatment', 'end_like_count']]\n",
    "t = df.loc[df.treatment == 1, 'end_like_count'] -1\n",
    "n = df.loc[df.treatment == 0, 'end_like_count']\n"
   ]
  },
  {
   "cell_type": "code",
   "execution_count": null,
   "metadata": {},
   "outputs": [],
   "source": [
    "import numpy as np, scipy.stats as st\n",
    "\n",
    "st.norm.interval(0.95, loc=np.mean(t), scale=st.sem(t)), st.norm.interval(0.95, loc=np.mean(n), scale=st.sem(n))"
   ]
  },
  {
   "cell_type": "code",
   "execution_count": null,
   "metadata": {},
   "outputs": [],
   "source": [
    "# Kolmogorov Smirnov test tells whether two distributions are the same\n",
    "# Null hypothesis is they are the same, p value is high\n",
    "from scipy import stats\n",
    "stats.kstest(t, n)"
   ]
  }
 ],
 "metadata": {
  "kernelspec": {
   "display_name": "Python 3",
   "language": "python",
   "name": "python3"
  },
  "language_info": {
   "codemirror_mode": {
    "name": "ipython",
    "version": 3
   },
   "file_extension": ".py",
   "mimetype": "text/x-python",
   "name": "python",
   "nbconvert_exporter": "python",
   "pygments_lexer": "ipython3",
   "version": "3.7.3"
  }
 },
 "nbformat": 4,
 "nbformat_minor": 5
}
