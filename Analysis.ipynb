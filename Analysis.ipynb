{
 "cells": [
  {
   "cell_type": "code",
   "execution_count": 32,
   "id": "6d967739",
   "metadata": {},
   "outputs": [],
   "source": [
    "import pandas as pd\n",
    "import hvplot.pandas\n",
    "import holoviews as hv"
   ]
  },
  {
   "cell_type": "code",
   "execution_count": 83,
   "id": "325653a8",
   "metadata": {},
   "outputs": [],
   "source": [
    "\n",
    "df = pd.read_parquet('data.parquet')"
   ]
  },
  {
   "cell_type": "code",
   "execution_count": 89,
   "id": "8adeb2cb",
   "metadata": {},
   "outputs": [
    {
     "data": {
      "text/plain": [
       "0"
      ]
     },
     "execution_count": 89,
     "metadata": {},
     "output_type": "execute_result"
    }
   ],
   "source": [
    "(df.end_like_count < 0).sum()"
   ]
  },
  {
   "cell_type": "code",
   "execution_count": 90,
   "id": "2b754838",
   "metadata": {},
   "outputs": [],
   "source": [
    "df = df[df.starting_like_count == 1].dropna()"
   ]
  },
  {
   "cell_type": "code",
   "execution_count": 98,
   "id": "1bde12f5",
   "metadata": {},
   "outputs": [
    {
     "data": {
      "text/html": [
       "<div>\n",
       "<style scoped>\n",
       "    .dataframe tbody tr th:only-of-type {\n",
       "        vertical-align: middle;\n",
       "    }\n",
       "\n",
       "    .dataframe tbody tr th {\n",
       "        vertical-align: top;\n",
       "    }\n",
       "\n",
       "    .dataframe thead th {\n",
       "        text-align: right;\n",
       "    }\n",
       "</style>\n",
       "<table border=\"1\" class=\"dataframe\">\n",
       "  <thead>\n",
       "    <tr style=\"text-align: right;\">\n",
       "      <th></th>\n",
       "      <th>treatment</th>\n",
       "      <th>end_like_count</th>\n",
       "    </tr>\n",
       "    <tr>\n",
       "      <th>post_id</th>\n",
       "      <th></th>\n",
       "      <th></th>\n",
       "    </tr>\n",
       "  </thead>\n",
       "  <tbody>\n",
       "    <tr>\n",
       "      <th>tc253o</th>\n",
       "      <td>0.0</td>\n",
       "      <td>1.0</td>\n",
       "    </tr>\n",
       "    <tr>\n",
       "      <th>tc1hs9</th>\n",
       "      <td>0.0</td>\n",
       "      <td>1.0</td>\n",
       "    </tr>\n",
       "    <tr>\n",
       "      <th>td4abj</th>\n",
       "      <td>0.0</td>\n",
       "      <td>1.0</td>\n",
       "    </tr>\n",
       "    <tr>\n",
       "      <th>tc1xtx</th>\n",
       "      <td>0.0</td>\n",
       "      <td>1.0</td>\n",
       "    </tr>\n",
       "    <tr>\n",
       "      <th>tc22u7</th>\n",
       "      <td>1.0</td>\n",
       "      <td>1.0</td>\n",
       "    </tr>\n",
       "    <tr>\n",
       "      <th>...</th>\n",
       "      <td>...</td>\n",
       "      <td>...</td>\n",
       "    </tr>\n",
       "    <tr>\n",
       "      <th>t9j4r6</th>\n",
       "      <td>1.0</td>\n",
       "      <td>43776.0</td>\n",
       "    </tr>\n",
       "    <tr>\n",
       "      <th>ta7bcg</th>\n",
       "      <td>0.0</td>\n",
       "      <td>44995.0</td>\n",
       "    </tr>\n",
       "    <tr>\n",
       "      <th>td7yhn</th>\n",
       "      <td>1.0</td>\n",
       "      <td>67213.0</td>\n",
       "    </tr>\n",
       "    <tr>\n",
       "      <th>tbnx4d</th>\n",
       "      <td>0.0</td>\n",
       "      <td>83518.0</td>\n",
       "    </tr>\n",
       "    <tr>\n",
       "      <th>take4p</th>\n",
       "      <td>1.0</td>\n",
       "      <td>90305.0</td>\n",
       "    </tr>\n",
       "  </tbody>\n",
       "</table>\n",
       "<p>1583 rows × 2 columns</p>\n",
       "</div>"
      ],
      "text/plain": [
       "         treatment  end_like_count\n",
       "post_id                           \n",
       "tc253o         0.0             1.0\n",
       "tc1hs9         0.0             1.0\n",
       "td4abj         0.0             1.0\n",
       "tc1xtx         0.0             1.0\n",
       "tc22u7         1.0             1.0\n",
       "...            ...             ...\n",
       "t9j4r6         1.0         43776.0\n",
       "ta7bcg         0.0         44995.0\n",
       "td7yhn         1.0         67213.0\n",
       "tbnx4d         0.0         83518.0\n",
       "take4p         1.0         90305.0\n",
       "\n",
       "[1583 rows x 2 columns]"
      ]
     },
     "execution_count": 98,
     "metadata": {},
     "output_type": "execute_result"
    }
   ],
   "source": [
    "df.sort_values('end_like_count')"
   ]
  },
  {
   "cell_type": "code",
   "execution_count": 127,
   "id": "7bb5663d",
   "metadata": {},
   "outputs": [],
   "source": [
    "df = df.loc[df.end_like_count > 0, ['treatment', 'end_like_count']]\n",
    "t = df.loc[df.treatment == 1, 'end_like_count'] -1\n",
    "n = df.loc[df.treatment == 0, 'end_like_count']\n"
   ]
  },
  {
   "cell_type": "code",
   "execution_count": 126,
   "id": "bfbd022f",
   "metadata": {},
   "outputs": [
    {
     "data": {},
     "metadata": {},
     "output_type": "display_data"
    },
    {
     "data": {
      "application/vnd.holoviews_exec.v0+json": "",
      "text/html": [
       "<div id='22591'>\n",
       "\n",
       "\n",
       "\n",
       "\n",
       "\n",
       "  <div class=\"bk-root\" id=\"b2a68be6-367f-4f36-83ef-90d84c293861\" data-root-id=\"22591\"></div>\n",
       "</div>\n",
       "<script type=\"application/javascript\">(function(root) {\n",
       "  function embed_document(root) {\n",
       "    var docs_json = {\"cac218fb-0d57-4f71-b720-2c8f3dd61036\":{\"defs\":[{\"extends\":null,\"module\":null,\"name\":\"ReactiveHTML1\",\"overrides\":[],\"properties\":[]},{\"extends\":null,\"module\":null,\"name\":\"FlexBox1\",\"overrides\":[],\"properties\":[{\"default\":\"flex-start\",\"kind\":null,\"name\":\"align_content\"},{\"default\":\"flex-start\",\"kind\":null,\"name\":\"align_items\"},{\"default\":\"row\",\"kind\":null,\"name\":\"flex_direction\"},{\"default\":\"wrap\",\"kind\":null,\"name\":\"flex_wrap\"},{\"default\":\"flex-start\",\"kind\":null,\"name\":\"justify_content\"}]},{\"extends\":null,\"module\":null,\"name\":\"TemplateActions1\",\"overrides\":[],\"properties\":[{\"default\":0,\"kind\":null,\"name\":\"open_modal\"},{\"default\":0,\"kind\":null,\"name\":\"close_modal\"}]},{\"extends\":null,\"module\":null,\"name\":\"MaterialTemplateActions1\",\"overrides\":[],\"properties\":[{\"default\":0,\"kind\":null,\"name\":\"open_modal\"},{\"default\":0,\"kind\":null,\"name\":\"close_modal\"}]}],\"roots\":{\"references\":[{\"attributes\":{\"toolbars\":[{\"id\":\"22619\"},{\"id\":\"22665\"}],\"tools\":[{\"id\":\"22595\"},{\"id\":\"22613\"},{\"id\":\"22614\"},{\"id\":\"22615\"},{\"id\":\"22616\"},{\"id\":\"22617\"},{\"id\":\"22641\"},{\"id\":\"22659\"},{\"id\":\"22660\"},{\"id\":\"22661\"},{\"id\":\"22662\"},{\"id\":\"22663\"}]},\"id\":\"22710\",\"type\":\"ProxyToolbar\"},{\"attributes\":{},\"id\":\"22637\",\"type\":\"AllLabels\"},{\"attributes\":{\"bottom\":{\"value\":0},\"fill_alpha\":{\"value\":1.0},\"fill_color\":{\"value\":\"#30a2da\"},\"hatch_alpha\":{\"value\":1.0},\"hatch_color\":{\"value\":\"#30a2da\"},\"hatch_scale\":{\"value\":12.0},\"hatch_weight\":{\"value\":1.0},\"left\":{\"field\":\"left\"},\"line_alpha\":{\"value\":1.0},\"line_cap\":{\"value\":\"butt\"},\"line_color\":{\"value\":\"black\"},\"line_dash\":{\"value\":[]},\"line_dash_offset\":{\"value\":0},\"line_join\":{\"value\":\"bevel\"},\"line_width\":{\"value\":1},\"right\":{\"field\":\"right\"},\"top\":{\"field\":\"top\"}},\"id\":\"22634\",\"type\":\"Quad\"},{\"attributes\":{},\"id\":\"22686\",\"type\":\"AllLabels\"},{\"attributes\":{\"below\":[{\"id\":\"22605\"}],\"center\":[{\"id\":\"22608\"},{\"id\":\"22612\"}],\"height\":300,\"left\":[{\"id\":\"22609\"}],\"margin\":null,\"min_border_bottom\":10,\"min_border_left\":10,\"min_border_right\":10,\"min_border_top\":10,\"renderers\":[{\"id\":\"22632\"}],\"sizing_mode\":\"fixed\",\"title\":{\"id\":\"22597\"},\"toolbar\":{\"id\":\"22619\"},\"toolbar_location\":null,\"width\":400,\"x_range\":{\"id\":\"22593\"},\"x_scale\":{\"id\":\"22601\"},\"y_range\":{\"id\":\"22594\"},\"y_scale\":{\"id\":\"22603\"}},\"id\":\"22596\",\"subtype\":\"Figure\",\"type\":\"Plot\"},{\"attributes\":{\"axis\":{\"id\":\"22605\"},\"coordinates\":null,\"grid_line_color\":null,\"group\":null,\"ticker\":null},\"id\":\"22608\",\"type\":\"Grid\"},{\"attributes\":{},\"id\":\"22640\",\"type\":\"AllLabels\"},{\"attributes\":{},\"id\":\"22614\",\"type\":\"PanTool\"},{\"attributes\":{\"children\":[{\"id\":\"22711\"},{\"id\":\"22709\"}]},\"id\":\"22712\",\"type\":\"Column\"},{\"attributes\":{\"end\":300,\"reset_end\":300,\"reset_start\":0,\"tags\":[[[\"end_like_count_count\",\"Count\",null]]]},\"id\":\"22594\",\"type\":\"Range1d\"},{\"attributes\":{\"axis_label\":\"end_like_count\",\"coordinates\":null,\"formatter\":{\"id\":\"22636\"},\"group\":null,\"major_label_policy\":{\"id\":\"22637\"},\"ticker\":{\"id\":\"22606\"}},\"id\":\"22605\",\"type\":\"LogAxis\"},{\"attributes\":{\"axis_label\":\"\",\"coordinates\":null,\"formatter\":{\"id\":\"22639\"},\"group\":null,\"major_label_policy\":{\"id\":\"22640\"},\"ticker\":{\"id\":\"22610\"}},\"id\":\"22609\",\"type\":\"LinearAxis\"},{\"attributes\":{\"axis\":{\"id\":\"22609\"},\"coordinates\":null,\"dimension\":1,\"grid_line_color\":null,\"group\":null,\"ticker\":null},\"id\":\"22612\",\"type\":\"Grid\"},{\"attributes\":{\"num_minor_ticks\":10},\"id\":\"22606\",\"type\":\"LogTicker\"},{\"attributes\":{\"data\":{\"end_like_count\":{\"__ndarray__\":\"hyMqjuo59j9tP4JkIcMDQOg5SBRGkhFAE6ORBTA/H0BprLQxZcgrQEjPor3pszhAYUhamdf2RUDsBXsDfodTQMLrED8/XWFAGoMLLeTgbkB62rB/jXR7QGbHWYRdaYhAsibVDo+0lUDwMSecjkyjQIyIzm/YKLFAQDlw5bSDvkBecIrSsiHLQGz+MEOyH9hAryrCiw5z5UA=\",\"dtype\":\"float64\",\"order\":\"little\",\"shape\":[19]},\"end_like_count_count\":[17,47,40,105,161,149,95,59,29,23,20,17,9,5,5,4,5,2,2],\"left\":{\"__ndarray__\":\"AAAAAAAA8D8OR1Qc1XP8P1Nb2jpYTAlAJkYjC2B+FkAAAAAAAAAkQGmstDFlyDFAJ/KQSW6fP0CvF+wN+B1MQAAAAAAAAFlAg9chfn46ZkBZl/rtpMNzQM2Oswi7koFAAAAAAABAj0BkTaodHsmbQC89eSmOtKhAgXLgymn3tUAAAAAAAIjDQF5witKyXdFAeozXs7Hh3kA=\",\"dtype\":\"float64\",\"order\":\"little\",\"shape\":[19]},\"right\":{\"__ndarray__\":\"DkdUHNVz/D9TW9o6WEwJQCZGIwtgfhZAAAAAAAAAJEBprLQxZcgxQCfykElunz9ArxfsDfgdTEAAAAAAAABZQIPXIX5+OmZAWZf67aTDc0DNjrMIu5KBQAAAAAAAQI9AZE2qHR7Jm0AvPXkpjrSoQIFy4Mpp97VAAAAAAACIw0BecIrSsl3RQHqM17Ox4d5AIY+YPUR160A=\",\"dtype\":\"float64\",\"order\":\"little\",\"shape\":[19]},\"top\":[17,47,40,105,161,149,95,59,29,23,20,17,9,5,5,4,5,2,2]},\"selected\":{\"id\":\"22673\"},\"selection_policy\":{\"id\":\"22705\"}},\"id\":\"22672\",\"type\":\"ColumnDataSource\"},{\"attributes\":{},\"id\":\"22610\",\"type\":\"BasicTicker\"},{\"attributes\":{\"ticker\":null},\"id\":\"22636\",\"type\":\"LogTickFormatter\"},{\"attributes\":{},\"id\":\"22615\",\"type\":\"WheelZoomTool\"},{\"attributes\":{},\"id\":\"22613\",\"type\":\"SaveTool\"},{\"attributes\":{\"margin\":[5,5,5,5],\"name\":\"HSpacer39652\",\"sizing_mode\":\"stretch_width\"},\"id\":\"22592\",\"type\":\"Spacer\"},{\"attributes\":{},\"id\":\"22639\",\"type\":\"BasicTickFormatter\"},{\"attributes\":{\"overlay\":{\"id\":\"22618\"}},\"id\":\"22616\",\"type\":\"BoxZoomTool\"},{\"attributes\":{},\"id\":\"22663\",\"type\":\"ResetTool\"},{\"attributes\":{},\"id\":\"22617\",\"type\":\"ResetTool\"},{\"attributes\":{\"axis_label\":\"\",\"coordinates\":null,\"formatter\":{\"id\":\"22685\"},\"group\":null,\"major_label_policy\":{\"id\":\"22686\"},\"ticker\":{\"id\":\"22656\"}},\"id\":\"22655\",\"type\":\"LinearAxis\"},{\"attributes\":{\"children\":[{\"id\":\"22592\"},{\"id\":\"22712\"},{\"id\":\"22893\"}],\"margin\":[0,0,0,0],\"name\":\"Row39648\",\"tags\":[\"embedded\"]},\"id\":\"22591\",\"type\":\"Row\"},{\"attributes\":{},\"id\":\"22660\",\"type\":\"PanTool\"},{\"attributes\":{\"bottom_units\":\"screen\",\"coordinates\":null,\"fill_alpha\":0.5,\"fill_color\":\"lightgrey\",\"group\":null,\"left_units\":\"screen\",\"level\":\"overlay\",\"line_alpha\":1.0,\"line_color\":\"black\",\"line_dash\":[4,4],\"line_width\":2,\"right_units\":\"screen\",\"syncable\":false,\"top_units\":\"screen\"},\"id\":\"22618\",\"type\":\"BoxAnnotation\"},{\"attributes\":{\"source\":{\"id\":\"22626\"}},\"id\":\"22633\",\"type\":\"CDSView\"},{\"attributes\":{},\"id\":\"22659\",\"type\":\"SaveTool\"},{\"attributes\":{\"overlay\":{\"id\":\"22664\"}},\"id\":\"22662\",\"type\":\"BoxZoomTool\"},{\"attributes\":{},\"id\":\"22661\",\"type\":\"WheelZoomTool\"},{\"attributes\":{},\"id\":\"22656\",\"type\":\"BasicTicker\"},{\"attributes\":{\"margin\":[5,5,5,5],\"name\":\"HSpacer39653\",\"sizing_mode\":\"stretch_width\"},\"id\":\"22893\",\"type\":\"Spacer\"},{\"attributes\":{\"axis\":{\"id\":\"22655\"},\"coordinates\":null,\"dimension\":1,\"grid_line_color\":null,\"group\":null,\"ticker\":null},\"id\":\"22658\",\"type\":\"Grid\"},{\"attributes\":{\"bottom\":{\"value\":0},\"fill_alpha\":{\"value\":0.2},\"fill_color\":{\"value\":\"#30a2da\"},\"hatch_alpha\":{\"value\":0.2},\"hatch_color\":{\"value\":\"#30a2da\"},\"left\":{\"field\":\"left\"},\"line_alpha\":{\"value\":0.2},\"right\":{\"field\":\"right\"},\"top\":{\"field\":\"top\"}},\"id\":\"22631\",\"type\":\"Quad\"},{\"attributes\":{\"coordinates\":null,\"group\":null,\"text_color\":\"black\",\"text_font_size\":\"12pt\"},\"id\":\"22597\",\"type\":\"Title\"},{\"attributes\":{\"ticker\":null},\"id\":\"22682\",\"type\":\"LogTickFormatter\"},{\"attributes\":{\"children\":[[{\"id\":\"22596\"},0,0],[{\"id\":\"22642\"},0,1]]},\"id\":\"22709\",\"type\":\"GridBox\"},{\"attributes\":{\"below\":[{\"id\":\"22651\"}],\"center\":[{\"id\":\"22654\"},{\"id\":\"22658\"}],\"height\":300,\"left\":[{\"id\":\"22655\"}],\"margin\":null,\"min_border_bottom\":10,\"min_border_left\":10,\"min_border_right\":10,\"min_border_top\":10,\"renderers\":[{\"id\":\"22678\"}],\"sizing_mode\":\"fixed\",\"title\":{\"id\":\"22643\"},\"toolbar\":{\"id\":\"22665\"},\"toolbar_location\":null,\"width\":400,\"x_range\":{\"id\":\"22593\"},\"x_scale\":{\"id\":\"22647\"},\"y_range\":{\"id\":\"22594\"},\"y_scale\":{\"id\":\"22649\"}},\"id\":\"22642\",\"subtype\":\"Figure\",\"type\":\"Plot\"},{\"attributes\":{\"bottom_units\":\"screen\",\"coordinates\":null,\"fill_alpha\":0.5,\"fill_color\":\"lightgrey\",\"group\":null,\"left_units\":\"screen\",\"level\":\"overlay\",\"line_alpha\":1.0,\"line_color\":\"black\",\"line_dash\":[4,4],\"line_width\":2,\"right_units\":\"screen\",\"syncable\":false,\"top_units\":\"screen\"},\"id\":\"22664\",\"type\":\"BoxAnnotation\"},{\"attributes\":{\"num_minor_ticks\":10},\"id\":\"22652\",\"type\":\"LogTicker\"},{\"attributes\":{\"tools\":[{\"id\":\"22641\"},{\"id\":\"22659\"},{\"id\":\"22660\"},{\"id\":\"22661\"},{\"id\":\"22662\"},{\"id\":\"22663\"}]},\"id\":\"22665\",\"type\":\"Toolbar\"},{\"attributes\":{\"bottom\":{\"value\":0},\"fill_color\":{\"value\":\"#30a2da\"},\"hatch_color\":{\"value\":\"#30a2da\"},\"left\":{\"field\":\"left\"},\"right\":{\"field\":\"right\"},\"top\":{\"field\":\"top\"}},\"id\":\"22629\",\"type\":\"Quad\"},{\"attributes\":{},\"id\":\"22685\",\"type\":\"BasicTickFormatter\"},{\"attributes\":{\"axis_label\":\"end_like_count\",\"coordinates\":null,\"formatter\":{\"id\":\"22682\"},\"group\":null,\"major_label_policy\":{\"id\":\"22683\"},\"ticker\":{\"id\":\"22652\"}},\"id\":\"22651\",\"type\":\"LogAxis\"},{\"attributes\":{},\"id\":\"22627\",\"type\":\"Selection\"},{\"attributes\":{},\"id\":\"22705\",\"type\":\"UnionRenderers\"},{\"attributes\":{\"bottom\":{\"value\":0},\"fill_alpha\":{\"value\":0.1},\"fill_color\":{\"value\":\"#30a2da\"},\"hatch_alpha\":{\"value\":0.1},\"hatch_color\":{\"value\":\"#30a2da\"},\"left\":{\"field\":\"left\"},\"line_alpha\":{\"value\":0.1},\"right\":{\"field\":\"right\"},\"top\":{\"field\":\"top\"}},\"id\":\"22676\",\"type\":\"Quad\"},{\"attributes\":{},\"id\":\"22649\",\"type\":\"LinearScale\"},{\"attributes\":{},\"id\":\"22683\",\"type\":\"AllLabels\"},{\"attributes\":{\"bottom\":{\"value\":0},\"fill_alpha\":{\"value\":0.1},\"fill_color\":{\"value\":\"#30a2da\"},\"hatch_alpha\":{\"value\":0.1},\"hatch_color\":{\"value\":\"#30a2da\"},\"left\":{\"field\":\"left\"},\"line_alpha\":{\"value\":0.1},\"right\":{\"field\":\"right\"},\"top\":{\"field\":\"top\"}},\"id\":\"22630\",\"type\":\"Quad\"},{\"attributes\":{},\"id\":\"22673\",\"type\":\"Selection\"},{\"attributes\":{\"bottom\":{\"value\":0},\"fill_color\":{\"value\":\"#30a2da\"},\"hatch_color\":{\"value\":\"#30a2da\"},\"left\":{\"field\":\"left\"},\"right\":{\"field\":\"right\"},\"top\":{\"field\":\"top\"}},\"id\":\"22675\",\"type\":\"Quad\"},{\"attributes\":{\"callback\":null,\"renderers\":[{\"id\":\"22632\"}],\"tags\":[\"hv_created\"],\"tooltips\":[[\"end_like_count\",\"@{end_like_count}\"],[\"Count\",\"@{end_like_count_count}\"]]},\"id\":\"22595\",\"type\":\"HoverTool\"},{\"attributes\":{},\"id\":\"22647\",\"type\":\"LogScale\"},{\"attributes\":{\"axis\":{\"id\":\"22651\"},\"coordinates\":null,\"grid_line_color\":null,\"group\":null,\"ticker\":null},\"id\":\"22654\",\"type\":\"Grid\"},{\"attributes\":{\"source\":{\"id\":\"22672\"}},\"id\":\"22679\",\"type\":\"CDSView\"},{\"attributes\":{\"bottom\":{\"value\":0},\"fill_alpha\":{\"value\":0.2},\"fill_color\":{\"value\":\"#30a2da\"},\"hatch_alpha\":{\"value\":0.2},\"hatch_color\":{\"value\":\"#30a2da\"},\"left\":{\"field\":\"left\"},\"line_alpha\":{\"value\":0.2},\"right\":{\"field\":\"right\"},\"top\":{\"field\":\"top\"}},\"id\":\"22677\",\"type\":\"Quad\"},{\"attributes\":{\"end\":127717.37975811408,\"reset_end\":127717.37975811408,\"reset_start\":0.4403013327202417,\"start\":0.4403013327202417,\"tags\":[[[\"end_like_count\",\"end_like_count\",null]]]},\"id\":\"22593\",\"type\":\"Range1d\"},{\"attributes\":{\"tools\":[{\"id\":\"22595\"},{\"id\":\"22613\"},{\"id\":\"22614\"},{\"id\":\"22615\"},{\"id\":\"22616\"},{\"id\":\"22617\"}]},\"id\":\"22619\",\"type\":\"Toolbar\"},{\"attributes\":{\"coordinates\":null,\"data_source\":{\"id\":\"22672\"},\"glyph\":{\"id\":\"22675\"},\"group\":null,\"hover_glyph\":null,\"muted_glyph\":{\"id\":\"22677\"},\"nonselection_glyph\":{\"id\":\"22676\"},\"selection_glyph\":{\"id\":\"22680\"},\"view\":{\"id\":\"22679\"}},\"id\":\"22678\",\"type\":\"GlyphRenderer\"},{\"attributes\":{\"toolbar\":{\"id\":\"22710\"},\"toolbar_location\":\"above\"},\"id\":\"22711\",\"type\":\"ToolbarBox\"},{\"attributes\":{\"bottom\":{\"value\":0},\"fill_alpha\":{\"value\":1.0},\"fill_color\":{\"value\":\"#30a2da\"},\"hatch_alpha\":{\"value\":1.0},\"hatch_color\":{\"value\":\"#30a2da\"},\"hatch_scale\":{\"value\":12.0},\"hatch_weight\":{\"value\":1.0},\"left\":{\"field\":\"left\"},\"line_alpha\":{\"value\":1.0},\"line_cap\":{\"value\":\"butt\"},\"line_color\":{\"value\":\"black\"},\"line_dash\":{\"value\":[]},\"line_dash_offset\":{\"value\":0},\"line_join\":{\"value\":\"bevel\"},\"line_width\":{\"value\":1},\"right\":{\"field\":\"right\"},\"top\":{\"field\":\"top\"}},\"id\":\"22680\",\"type\":\"Quad\"},{\"attributes\":{},\"id\":\"22603\",\"type\":\"LinearScale\"},{\"attributes\":{\"callback\":null,\"renderers\":[{\"id\":\"22678\"}],\"tags\":[\"hv_created\"],\"tooltips\":[[\"end_like_count\",\"@{end_like_count}\"],[\"Count\",\"@{end_like_count_count}\"]]},\"id\":\"22641\",\"type\":\"HoverTool\"},{\"attributes\":{\"data\":{\"end_like_count\":{\"__ndarray__\":\"hyMqjuo59j9tP4JkIcMDQOg5SBRGkhFAE6ORBTA/H0BprLQxZcgrQEjPor3pszhAYUhamdf2RUDsBXsDfodTQMLrED8/XWFAGoMLLeTgbkB62rB/jXR7QGbHWYRdaYhAsibVDo+0lUDwMSecjkyjQIyIzm/YKLFAQDlw5bSDvkBecIrSsiHLQGz+MEOyH9hAryrCiw5z5UA=\",\"dtype\":\"float64\",\"order\":\"little\",\"shape\":[19]},\"end_like_count_count\":[51,56,49,98,138,142,100,44,33,11,12,11,6,10,7,4,10,2,2],\"left\":{\"__ndarray__\":\"AAAAAAAA8D8OR1Qc1XP8P1Nb2jpYTAlAJkYjC2B+FkAAAAAAAAAkQGmstDFlyDFAJ/KQSW6fP0CvF+wN+B1MQAAAAAAAAFlAg9chfn46ZkBZl/rtpMNzQM2Oswi7koFAAAAAAABAj0BkTaodHsmbQC89eSmOtKhAgXLgymn3tUAAAAAAAIjDQF5witKyXdFAeozXs7Hh3kA=\",\"dtype\":\"float64\",\"order\":\"little\",\"shape\":[19]},\"right\":{\"__ndarray__\":\"DkdUHNVz/D9TW9o6WEwJQCZGIwtgfhZAAAAAAAAAJEBprLQxZcgxQCfykElunz9ArxfsDfgdTEAAAAAAAABZQIPXIX5+OmZAWZf67aTDc0DNjrMIu5KBQAAAAAAAQI9AZE2qHR7Jm0AvPXkpjrSoQIFy4Mpp97VAAAAAAACIw0BecIrSsl3RQHqM17Ox4d5AIY+YPUR160A=\",\"dtype\":\"float64\",\"order\":\"little\",\"shape\":[19]},\"top\":[51,56,49,98,138,142,100,44,33,11,12,11,6,10,7,4,10,2,2]},\"selected\":{\"id\":\"22627\"},\"selection_policy\":{\"id\":\"22694\"}},\"id\":\"22626\",\"type\":\"ColumnDataSource\"},{\"attributes\":{},\"id\":\"22694\",\"type\":\"UnionRenderers\"},{\"attributes\":{},\"id\":\"22601\",\"type\":\"LogScale\"},{\"attributes\":{\"coordinates\":null,\"data_source\":{\"id\":\"22626\"},\"glyph\":{\"id\":\"22629\"},\"group\":null,\"hover_glyph\":null,\"muted_glyph\":{\"id\":\"22631\"},\"nonselection_glyph\":{\"id\":\"22630\"},\"selection_glyph\":{\"id\":\"22634\"},\"view\":{\"id\":\"22633\"}},\"id\":\"22632\",\"type\":\"GlyphRenderer\"},{\"attributes\":{\"coordinates\":null,\"group\":null,\"text_color\":\"black\",\"text_font_size\":\"12pt\"},\"id\":\"22643\",\"type\":\"Title\"}],\"root_ids\":[\"22591\"]},\"title\":\"Bokeh Application\",\"version\":\"2.4.2\"}};\n",
       "    var render_items = [{\"docid\":\"cac218fb-0d57-4f71-b720-2c8f3dd61036\",\"root_ids\":[\"22591\"],\"roots\":{\"22591\":\"b2a68be6-367f-4f36-83ef-90d84c293861\"}}];\n",
       "    root.Bokeh.embed.embed_items_notebook(docs_json, render_items);\n",
       "  }\n",
       "  if (root.Bokeh !== undefined && root.Bokeh.Panel !== undefined) {\n",
       "    embed_document(root);\n",
       "  } else {\n",
       "    var attempts = 0;\n",
       "    var timer = setInterval(function(root) {\n",
       "      if (root.Bokeh !== undefined && root.Bokeh.Panel !== undefined) {\n",
       "        clearInterval(timer);\n",
       "        embed_document(root);\n",
       "      } else if (document.readyState == \"complete\") {\n",
       "        attempts++;\n",
       "        if (attempts > 200) {\n",
       "          clearInterval(timer);\n",
       "          console.log(\"Bokeh: ERROR: Unable to run BokehJS code because BokehJS library is missing\");\n",
       "        }\n",
       "      }\n",
       "    }, 25, root)\n",
       "  }\n",
       "})(window);</script>"
      ],
      "text/plain": [
       ":Layout\n",
       "   .Histogram.I  :Histogram   [end_like_count]   (end_like_count_count)\n",
       "   .Histogram.II :Histogram   [end_like_count]   (end_like_count_count)"
      ]
     },
     "execution_count": 126,
     "metadata": {
      "application/vnd.holoviews_exec.v0+json": {
       "id": "22591"
      }
     },
     "output_type": "execute_result"
    }
   ],
   "source": [
    "opts = dict(width=400, kind='hist', logx=True, ylim=(0, 300), bins=[10**(i/4) for i in range(20)])\n",
    "(n.hvplot(**opts) + t.hvplot(**opts))"
   ]
  },
  {
   "cell_type": "code",
   "execution_count": 131,
   "id": "d83d250d",
   "metadata": {},
   "outputs": [],
   "source": [
    "df = df.loc[df.end_like_count > 0, ['treatment', 'end_like_count']]\n",
    "t = df.loc[df.treatment == 1, 'end_like_count'] -1\n",
    "n = df.loc[df.treatment == 0, 'end_like_count']\n"
   ]
  },
  {
   "cell_type": "code",
   "execution_count": 140,
   "id": "934de639",
   "metadata": {},
   "outputs": [
    {
     "data": {
      "text/plain": [
       "((261.61177057963505, 920.4987821841839),\n",
       " (308.9779733955518, 887.5252032245244))"
      ]
     },
     "execution_count": 140,
     "metadata": {},
     "output_type": "execute_result"
    }
   ],
   "source": [
    "import numpy as np, scipy.stats as st\n",
    "\n",
    "st.norm.interval(0.95, loc=np.mean(t), scale=st.sem(t)), st.norm.interval(0.95, loc=np.mean(n), scale=st.sem(n))"
   ]
  },
  {
   "cell_type": "code",
   "execution_count": null,
   "id": "0f87f3fc",
   "metadata": {},
   "outputs": [],
   "source": []
  }
 ],
 "metadata": {
  "kernelspec": {
   "display_name": "Python 3 (ipykernel)",
   "language": "python",
   "name": "python3"
  },
  "language_info": {
   "codemirror_mode": {
    "name": "ipython",
    "version": 3
   },
   "file_extension": ".py",
   "mimetype": "text/x-python",
   "name": "python",
   "nbconvert_exporter": "python",
   "pygments_lexer": "ipython3",
   "version": "3.10.2"
  }
 },
 "nbformat": 4,
 "nbformat_minor": 5
}
